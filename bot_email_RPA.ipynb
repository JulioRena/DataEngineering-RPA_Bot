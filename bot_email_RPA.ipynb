{
 "cells": [
  {
   "cell_type": "code",
   "execution_count": null,
   "metadata": {},
   "outputs": [],
   "source": [
    "#importing the libraries\n",
    "from imap_tools import MailBox, AND\n",
    "import os\n",
    "import time\n",
    "import smtplib\n",
    "import email.message as em"
   ]
  },
  {
   "cell_type": "code",
   "execution_count": null,
   "metadata": {},
   "outputs": [],
   "source": [
    "#setting Gmail user and password\n",
    "\n",
    "user = \"your-user-here\"\n",
    "password = \"your-password-here\""
   ]
  },
  {
   "cell_type": "code",
   "execution_count": null,
   "metadata": {},
   "outputs": [],
   "source": [
    "#making the authentication of gmail with MailBox using the user and passowrd\n",
    "meu_email = MailBox(\"imap.gmail.com\").login(user, password)\n",
    "\n",
    "\n",
    "#setting email sender to bot look for\n",
    "lista_emails = meu_email.fetch(AND(from_=\"email_sender\"))"
   ]
  },
  {
   "cell_type": "code",
   "execution_count": null,
   "metadata": {},
   "outputs": [],
   "source": [
    "#creating a list to append the days of received email from email sender\n",
    "list_dates = list()\n",
    "for email in lista_emails:\n",
    "    list_dates.append(email.date_str) "
   ]
  },
  {
   "cell_type": "code",
   "execution_count": null,
   "metadata": {},
   "outputs": [],
   "source": [
    "    \n",
    "#creating variables with year, month and day    \n",
    "year = time.gmtime()[0]\n",
    "month = str('0')+ str(time.gmtime()[1])\n",
    "day = int(time.gmtime()[2])"
   ]
  },
  {
   "cell_type": "code",
   "execution_count": null,
   "metadata": {},
   "outputs": [],
   "source": [
    "#creating a function to send me an email telling the work is done successfully\n",
    "\n",
    "def enviar_email(): \n",
    "    corpo_email = \"\"\"\n",
    "    <p>set your message here as head {}/{}/{}.</p>\n",
    "    <p>second message</p>\n",
    "    \"\"\" .format(day,month[1:],year)\n",
    "    msg = em.Message()\n",
    "    msg['Subject'] = \"Set your subject here.\"\n",
    "    msg['From'] = 'the sender e-mail - probablly the same as user'\n",
    "    msg['To'] = 'your destination email to receive'\n",
    "    msg.add_header('Content-Type', 'text/html')\n",
    "    msg.set_payload(corpo_email)\n",
    "\n",
    "    s = smtplib.SMTP('smtp.gmail.com: 587')\n",
    "    s.starttls()\n",
    "    # Login Credentials for sending the mail\n",
    "    s.login(msg['From'], password)\n",
    "    s.sendmail(msg['From'], [msg['To']], msg.as_string().encode('utf-8'))\n",
    "    \n",
    "    print('Email sent')\n",
    "    "
   ]
  },
  {
   "cell_type": "code",
   "execution_count": 3,
   "metadata": {
    "id": "dfiF-pUNQanG"
   },
   "outputs": [
    {
     "name": "stdout",
     "output_type": "stream",
     "text": [
      "Email enviado\n"
     ]
    }
   ],
   "source": [
    "\n",
    "#setting another function to grab the attachment and paste in a folder in server\n",
    "        \n",
    "lista_emails = meu_email.fetch(AND(from_=\"email_sender\"))\n",
    "for email in lista_emails:\n",
    "    #validate if the e-mail has an attachment\n",
    "    if len(email.attachments) > 0:\n",
    "        #validate if the e-mail is from today\n",
    "        if int(list_dates[-1:][0][5:7]) == day:\n",
    "            #validate if the filename is in the righ nime\n",
    "            for anexo in email.attachments:\n",
    "                if \"attached filename\" in anexo.filename:\n",
    "                    #print(anexo.content_type)\n",
    "                    #print(anexo.payload)\n",
    "                    \n",
    "                    \n",
    "\n",
    "                    #opening the file and saving it as a name with the year, month and day\n",
    "                    with open(f\"your_filename_here_{year}{month}{day}.csv\", 'wb') as arquivo_csv:\n",
    "                        arquivo_csv.write(anexo.payload)\n",
    "                        \n",
    "                        #if everything work, call the function to send me the e-mail\n",
    "                        enviar_email()\n",
    "                    \n",
    "                "
   ]
  },
  {
   "cell_type": "code",
   "execution_count": null,
   "metadata": {},
   "outputs": [],
   "source": []
  }
 ],
 "metadata": {
  "colab": {
   "provenance": []
  },
  "kernelspec": {
   "display_name": "Python 3 (ipykernel)",
   "language": "python",
   "name": "python3"
  },
  "language_info": {
   "codemirror_mode": {
    "name": "ipython",
    "version": 3
   },
   "file_extension": ".py",
   "mimetype": "text/x-python",
   "name": "python",
   "nbconvert_exporter": "python",
   "pygments_lexer": "ipython3",
   "version": "3.9.12"
  }
 },
 "nbformat": 4,
 "nbformat_minor": 1
}
